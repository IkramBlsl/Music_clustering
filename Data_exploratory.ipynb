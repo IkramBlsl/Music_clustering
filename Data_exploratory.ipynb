{
 "cells": [
  {
   "cell_type": "code",
   "execution_count": 15,
   "id": "d71ab2e9",
   "metadata": {},
   "outputs": [],
   "source": [
    "import pandas as pd\n",
    "import matplotlib.pyplot as plt\n",
    "import numpy as np\n",
    "import seaborn as sns"
   ]
  },
  {
   "cell_type": "code",
   "execution_count": 2,
   "id": "aa55f938",
   "metadata": {},
   "outputs": [],
   "source": [
    "data = pd.read_csv(\"Spotify-2000.csv\")"
   ]
  },
  {
   "cell_type": "code",
   "execution_count": 3,
   "id": "8e799188",
   "metadata": {
    "scrolled": true
   },
   "outputs": [
    {
     "data": {
      "text/html": [
       "<div>\n",
       "<style scoped>\n",
       "    .dataframe tbody tr th:only-of-type {\n",
       "        vertical-align: middle;\n",
       "    }\n",
       "\n",
       "    .dataframe tbody tr th {\n",
       "        vertical-align: top;\n",
       "    }\n",
       "\n",
       "    .dataframe thead th {\n",
       "        text-align: right;\n",
       "    }\n",
       "</style>\n",
       "<table border=\"1\" class=\"dataframe\">\n",
       "  <thead>\n",
       "    <tr style=\"text-align: right;\">\n",
       "      <th></th>\n",
       "      <th>Index</th>\n",
       "      <th>Title</th>\n",
       "      <th>Artist</th>\n",
       "      <th>Top Genre</th>\n",
       "      <th>Year</th>\n",
       "      <th>Beats Per Minute (BPM)</th>\n",
       "      <th>Energy</th>\n",
       "      <th>Danceability</th>\n",
       "      <th>Loudness (dB)</th>\n",
       "      <th>Liveness</th>\n",
       "      <th>Valence</th>\n",
       "      <th>Length (Duration)</th>\n",
       "      <th>Acousticness</th>\n",
       "      <th>Speechiness</th>\n",
       "      <th>Popularity</th>\n",
       "    </tr>\n",
       "  </thead>\n",
       "  <tbody>\n",
       "    <tr>\n",
       "      <th>0</th>\n",
       "      <td>1</td>\n",
       "      <td>Sunrise</td>\n",
       "      <td>Norah Jones</td>\n",
       "      <td>adult standards</td>\n",
       "      <td>2004</td>\n",
       "      <td>157</td>\n",
       "      <td>30</td>\n",
       "      <td>53</td>\n",
       "      <td>-14</td>\n",
       "      <td>11</td>\n",
       "      <td>68</td>\n",
       "      <td>201</td>\n",
       "      <td>94</td>\n",
       "      <td>3</td>\n",
       "      <td>71</td>\n",
       "    </tr>\n",
       "    <tr>\n",
       "      <th>1</th>\n",
       "      <td>2</td>\n",
       "      <td>Black Night</td>\n",
       "      <td>Deep Purple</td>\n",
       "      <td>album rock</td>\n",
       "      <td>2000</td>\n",
       "      <td>135</td>\n",
       "      <td>79</td>\n",
       "      <td>50</td>\n",
       "      <td>-11</td>\n",
       "      <td>17</td>\n",
       "      <td>81</td>\n",
       "      <td>207</td>\n",
       "      <td>17</td>\n",
       "      <td>7</td>\n",
       "      <td>39</td>\n",
       "    </tr>\n",
       "    <tr>\n",
       "      <th>2</th>\n",
       "      <td>3</td>\n",
       "      <td>Clint Eastwood</td>\n",
       "      <td>Gorillaz</td>\n",
       "      <td>alternative hip hop</td>\n",
       "      <td>2001</td>\n",
       "      <td>168</td>\n",
       "      <td>69</td>\n",
       "      <td>66</td>\n",
       "      <td>-9</td>\n",
       "      <td>7</td>\n",
       "      <td>52</td>\n",
       "      <td>341</td>\n",
       "      <td>2</td>\n",
       "      <td>17</td>\n",
       "      <td>69</td>\n",
       "    </tr>\n",
       "    <tr>\n",
       "      <th>3</th>\n",
       "      <td>4</td>\n",
       "      <td>The Pretender</td>\n",
       "      <td>Foo Fighters</td>\n",
       "      <td>alternative metal</td>\n",
       "      <td>2007</td>\n",
       "      <td>173</td>\n",
       "      <td>96</td>\n",
       "      <td>43</td>\n",
       "      <td>-4</td>\n",
       "      <td>3</td>\n",
       "      <td>37</td>\n",
       "      <td>269</td>\n",
       "      <td>0</td>\n",
       "      <td>4</td>\n",
       "      <td>76</td>\n",
       "    </tr>\n",
       "    <tr>\n",
       "      <th>4</th>\n",
       "      <td>5</td>\n",
       "      <td>Waitin' On A Sunny Day</td>\n",
       "      <td>Bruce Springsteen</td>\n",
       "      <td>classic rock</td>\n",
       "      <td>2002</td>\n",
       "      <td>106</td>\n",
       "      <td>82</td>\n",
       "      <td>58</td>\n",
       "      <td>-5</td>\n",
       "      <td>10</td>\n",
       "      <td>87</td>\n",
       "      <td>256</td>\n",
       "      <td>1</td>\n",
       "      <td>3</td>\n",
       "      <td>59</td>\n",
       "    </tr>\n",
       "  </tbody>\n",
       "</table>\n",
       "</div>"
      ],
      "text/plain": [
       "   Index                   Title             Artist            Top Genre  \\\n",
       "0      1                 Sunrise        Norah Jones      adult standards   \n",
       "1      2             Black Night        Deep Purple           album rock   \n",
       "2      3          Clint Eastwood           Gorillaz  alternative hip hop   \n",
       "3      4           The Pretender       Foo Fighters    alternative metal   \n",
       "4      5  Waitin' On A Sunny Day  Bruce Springsteen         classic rock   \n",
       "\n",
       "   Year  Beats Per Minute (BPM)  Energy  Danceability  Loudness (dB)  \\\n",
       "0  2004                     157      30            53            -14   \n",
       "1  2000                     135      79            50            -11   \n",
       "2  2001                     168      69            66             -9   \n",
       "3  2007                     173      96            43             -4   \n",
       "4  2002                     106      82            58             -5   \n",
       "\n",
       "   Liveness  Valence Length (Duration)  Acousticness  Speechiness  Popularity  \n",
       "0        11       68               201            94            3          71  \n",
       "1        17       81               207            17            7          39  \n",
       "2         7       52               341             2           17          69  \n",
       "3         3       37               269             0            4          76  \n",
       "4        10       87               256             1            3          59  "
      ]
     },
     "execution_count": 3,
     "metadata": {},
     "output_type": "execute_result"
    }
   ],
   "source": [
    "data.head()"
   ]
  },
  {
   "cell_type": "code",
   "execution_count": 20,
   "id": "1d715e36",
   "metadata": {},
   "outputs": [
    {
     "data": {
      "text/plain": [
       "Index                               2\n",
       "Title                     Black Night\n",
       "Artist                    Deep Purple\n",
       "Top Genre                  album rock\n",
       "Year                             2000\n",
       "Beats Per Minute (BPM)            135\n",
       "Energy                             79\n",
       "Danceability                       50\n",
       "Loudness (dB)                     -11\n",
       "Liveness                           17\n",
       "Valence                            81\n",
       "Length (Duration)                 207\n",
       "Acousticness                       17\n",
       "Speechiness                         7\n",
       "Popularity                         39\n",
       "Name: 1, dtype: object"
      ]
     },
     "execution_count": 20,
     "metadata": {},
     "output_type": "execute_result"
    }
   ],
   "source": [
    "data.iloc[1,:]"
   ]
  },
  {
   "cell_type": "code",
   "execution_count": 4,
   "id": "8a3750ba",
   "metadata": {},
   "outputs": [
    {
     "data": {
      "text/plain": [
       "1994"
      ]
     },
     "execution_count": 4,
     "metadata": {},
     "output_type": "execute_result"
    }
   ],
   "source": [
    "data.shape[0]"
   ]
  },
  {
   "cell_type": "markdown",
   "id": "2e27c870",
   "metadata": {},
   "source": [
    "### Data Exploratory"
   ]
  },
  {
   "cell_type": "code",
   "execution_count": 6,
   "id": "05f34b06",
   "metadata": {},
   "outputs": [
    {
     "data": {
      "text/plain": [
       "Index                     0\n",
       "Title                     0\n",
       "Artist                    0\n",
       "Top Genre                 0\n",
       "Year                      0\n",
       "Beats Per Minute (BPM)    0\n",
       "Energy                    0\n",
       "Danceability              0\n",
       "Loudness (dB)             0\n",
       "Liveness                  0\n",
       "Valence                   0\n",
       "Length (Duration)         0\n",
       "Acousticness              0\n",
       "Speechiness               0\n",
       "Popularity                0\n",
       "dtype: int64"
      ]
     },
     "execution_count": 6,
     "metadata": {},
     "output_type": "execute_result"
    }
   ],
   "source": [
    "data.isna().sum()"
   ]
  },
  {
   "cell_type": "code",
   "execution_count": 8,
   "id": "d8bf6a95",
   "metadata": {},
   "outputs": [
    {
     "data": {
      "text/plain": [
       "False    1994\n",
       "Name: count, dtype: int64"
      ]
     },
     "execution_count": 8,
     "metadata": {},
     "output_type": "execute_result"
    }
   ],
   "source": [
    "data.duplicated().value_counts()"
   ]
  },
  {
   "cell_type": "code",
   "execution_count": 10,
   "id": "94587e9d",
   "metadata": {},
   "outputs": [
    {
     "data": {
      "text/plain": [
       "Index                      int64\n",
       "Title                     object\n",
       "Artist                    object\n",
       "Top Genre                 object\n",
       "Year                       int64\n",
       "Beats Per Minute (BPM)     int64\n",
       "Energy                     int64\n",
       "Danceability               int64\n",
       "Loudness (dB)              int64\n",
       "Liveness                   int64\n",
       "Valence                    int64\n",
       "Length (Duration)         object\n",
       "Acousticness               int64\n",
       "Speechiness                int64\n",
       "Popularity                 int64\n",
       "dtype: object"
      ]
     },
     "execution_count": 10,
     "metadata": {},
     "output_type": "execute_result"
    }
   ],
   "source": [
    "data.dtypes"
   ]
  },
  {
   "cell_type": "code",
   "execution_count": 11,
   "id": "525174e1",
   "metadata": {},
   "outputs": [
    {
     "data": {
      "text/html": [
       "<div>\n",
       "<style scoped>\n",
       "    .dataframe tbody tr th:only-of-type {\n",
       "        vertical-align: middle;\n",
       "    }\n",
       "\n",
       "    .dataframe tbody tr th {\n",
       "        vertical-align: top;\n",
       "    }\n",
       "\n",
       "    .dataframe thead th {\n",
       "        text-align: right;\n",
       "    }\n",
       "</style>\n",
       "<table border=\"1\" class=\"dataframe\">\n",
       "  <thead>\n",
       "    <tr style=\"text-align: right;\">\n",
       "      <th></th>\n",
       "      <th>Index</th>\n",
       "      <th>Year</th>\n",
       "      <th>Beats Per Minute (BPM)</th>\n",
       "      <th>Energy</th>\n",
       "      <th>Danceability</th>\n",
       "      <th>Loudness (dB)</th>\n",
       "      <th>Liveness</th>\n",
       "      <th>Valence</th>\n",
       "      <th>Acousticness</th>\n",
       "      <th>Speechiness</th>\n",
       "      <th>Popularity</th>\n",
       "    </tr>\n",
       "  </thead>\n",
       "  <tbody>\n",
       "    <tr>\n",
       "      <th>count</th>\n",
       "      <td>1994.000000</td>\n",
       "      <td>1994.000000</td>\n",
       "      <td>1994.000000</td>\n",
       "      <td>1994.000000</td>\n",
       "      <td>1994.000000</td>\n",
       "      <td>1994.000000</td>\n",
       "      <td>1994.000000</td>\n",
       "      <td>1994.000000</td>\n",
       "      <td>1994.000000</td>\n",
       "      <td>1994.000000</td>\n",
       "      <td>1994.00000</td>\n",
       "    </tr>\n",
       "    <tr>\n",
       "      <th>mean</th>\n",
       "      <td>997.500000</td>\n",
       "      <td>1992.992979</td>\n",
       "      <td>120.215647</td>\n",
       "      <td>59.679539</td>\n",
       "      <td>53.238215</td>\n",
       "      <td>-9.008526</td>\n",
       "      <td>19.012036</td>\n",
       "      <td>49.408726</td>\n",
       "      <td>28.858074</td>\n",
       "      <td>4.994985</td>\n",
       "      <td>59.52658</td>\n",
       "    </tr>\n",
       "    <tr>\n",
       "      <th>std</th>\n",
       "      <td>575.762538</td>\n",
       "      <td>16.116048</td>\n",
       "      <td>28.028096</td>\n",
       "      <td>22.154322</td>\n",
       "      <td>15.351507</td>\n",
       "      <td>3.647876</td>\n",
       "      <td>16.727378</td>\n",
       "      <td>24.858212</td>\n",
       "      <td>29.011986</td>\n",
       "      <td>4.401566</td>\n",
       "      <td>14.35160</td>\n",
       "    </tr>\n",
       "    <tr>\n",
       "      <th>min</th>\n",
       "      <td>1.000000</td>\n",
       "      <td>1956.000000</td>\n",
       "      <td>37.000000</td>\n",
       "      <td>3.000000</td>\n",
       "      <td>10.000000</td>\n",
       "      <td>-27.000000</td>\n",
       "      <td>2.000000</td>\n",
       "      <td>3.000000</td>\n",
       "      <td>0.000000</td>\n",
       "      <td>2.000000</td>\n",
       "      <td>11.00000</td>\n",
       "    </tr>\n",
       "    <tr>\n",
       "      <th>25%</th>\n",
       "      <td>499.250000</td>\n",
       "      <td>1979.000000</td>\n",
       "      <td>99.000000</td>\n",
       "      <td>42.000000</td>\n",
       "      <td>43.000000</td>\n",
       "      <td>-11.000000</td>\n",
       "      <td>9.000000</td>\n",
       "      <td>29.000000</td>\n",
       "      <td>3.000000</td>\n",
       "      <td>3.000000</td>\n",
       "      <td>49.25000</td>\n",
       "    </tr>\n",
       "    <tr>\n",
       "      <th>50%</th>\n",
       "      <td>997.500000</td>\n",
       "      <td>1993.000000</td>\n",
       "      <td>119.000000</td>\n",
       "      <td>61.000000</td>\n",
       "      <td>53.000000</td>\n",
       "      <td>-8.000000</td>\n",
       "      <td>12.000000</td>\n",
       "      <td>47.000000</td>\n",
       "      <td>18.000000</td>\n",
       "      <td>4.000000</td>\n",
       "      <td>62.00000</td>\n",
       "    </tr>\n",
       "    <tr>\n",
       "      <th>75%</th>\n",
       "      <td>1495.750000</td>\n",
       "      <td>2007.000000</td>\n",
       "      <td>136.000000</td>\n",
       "      <td>78.000000</td>\n",
       "      <td>64.000000</td>\n",
       "      <td>-6.000000</td>\n",
       "      <td>23.000000</td>\n",
       "      <td>69.750000</td>\n",
       "      <td>50.000000</td>\n",
       "      <td>5.000000</td>\n",
       "      <td>71.00000</td>\n",
       "    </tr>\n",
       "    <tr>\n",
       "      <th>max</th>\n",
       "      <td>1994.000000</td>\n",
       "      <td>2019.000000</td>\n",
       "      <td>206.000000</td>\n",
       "      <td>100.000000</td>\n",
       "      <td>96.000000</td>\n",
       "      <td>-2.000000</td>\n",
       "      <td>99.000000</td>\n",
       "      <td>99.000000</td>\n",
       "      <td>99.000000</td>\n",
       "      <td>55.000000</td>\n",
       "      <td>100.00000</td>\n",
       "    </tr>\n",
       "  </tbody>\n",
       "</table>\n",
       "</div>"
      ],
      "text/plain": [
       "             Index         Year  Beats Per Minute (BPM)       Energy  \\\n",
       "count  1994.000000  1994.000000             1994.000000  1994.000000   \n",
       "mean    997.500000  1992.992979              120.215647    59.679539   \n",
       "std     575.762538    16.116048               28.028096    22.154322   \n",
       "min       1.000000  1956.000000               37.000000     3.000000   \n",
       "25%     499.250000  1979.000000               99.000000    42.000000   \n",
       "50%     997.500000  1993.000000              119.000000    61.000000   \n",
       "75%    1495.750000  2007.000000              136.000000    78.000000   \n",
       "max    1994.000000  2019.000000              206.000000   100.000000   \n",
       "\n",
       "       Danceability  Loudness (dB)     Liveness      Valence  Acousticness  \\\n",
       "count   1994.000000    1994.000000  1994.000000  1994.000000   1994.000000   \n",
       "mean      53.238215      -9.008526    19.012036    49.408726     28.858074   \n",
       "std       15.351507       3.647876    16.727378    24.858212     29.011986   \n",
       "min       10.000000     -27.000000     2.000000     3.000000      0.000000   \n",
       "25%       43.000000     -11.000000     9.000000    29.000000      3.000000   \n",
       "50%       53.000000      -8.000000    12.000000    47.000000     18.000000   \n",
       "75%       64.000000      -6.000000    23.000000    69.750000     50.000000   \n",
       "max       96.000000      -2.000000    99.000000    99.000000     99.000000   \n",
       "\n",
       "       Speechiness  Popularity  \n",
       "count  1994.000000  1994.00000  \n",
       "mean      4.994985    59.52658  \n",
       "std       4.401566    14.35160  \n",
       "min       2.000000    11.00000  \n",
       "25%       3.000000    49.25000  \n",
       "50%       4.000000    62.00000  \n",
       "75%       5.000000    71.00000  \n",
       "max      55.000000   100.00000  "
      ]
     },
     "execution_count": 11,
     "metadata": {},
     "output_type": "execute_result"
    }
   ],
   "source": [
    "data.describe()"
   ]
  },
  {
   "cell_type": "code",
   "execution_count": 21,
   "id": "e984f3ad",
   "metadata": {},
   "outputs": [],
   "source": [
    "numeric_columns = ['Beats Per Minute (BPM)', 'Energy', 'Danceability', 'Loudness (dB)', \n",
    "                   'Liveness', 'Valence', 'Length (Duration)', 'Acousticness', \n",
    "                   'Speechiness', 'Popularity']"
   ]
  },
  {
   "cell_type": "code",
   "execution_count": 22,
   "id": "3f6c6809",
   "metadata": {},
   "outputs": [
    {
     "data": {
      "image/png": "[encoded data removed]",
      "text/plain": [
       "<Figure size 1200x800 with 1 Axes>"
      ]
     },
     "metadata": {},
     "output_type": "display_data"
    }
   ],
   "source": [
    "plt.figure(figsize=(12, 8))\n",
    "sns.boxplot(data=data[numeric_columns])\n",
    "plt.title('Boxplot des attributs musicaux pour afficher les outliers')\n",
    "plt.xticks(rotation=45)\n",
    "plt.show()"
   ]
  },
  {
   "cell_type": "code",
   "execution_count": 24,
   "id": "c257f4e6",
   "metadata": {},
   "outputs": [
    {
     "data": {
      "text/plain": [
       "array([157, 135, 168, 173, 106,  99, 102, 137, 148, 112, 109, 124, 117,\n",
       "       133, 123, 127,  87,  74, 138, 142,  96, 130, 154, 146, 181,  80,\n",
       "        88, 122, 119, 156, 152,  72, 118, 105, 186, 100, 115,  75, 131,\n",
       "        76, 108, 194,  90, 149,  92, 132,  86, 166, 176, 103, 136,  81,\n",
       "        77, 171, 183, 178, 139, 101, 110, 104, 159, 160,  83,  79, 120,\n",
       "       145, 128,  61, 162,  93, 107, 177,  94,  68, 129, 193,  85, 125,\n",
       "       126, 165,  58,  91,  89, 141, 121,  97,  98, 190, 164, 114, 170,\n",
       "       147, 180, 116, 144,  70, 174,  95, 179, 113, 169, 111, 175, 184,\n",
       "        73, 150, 134,  67, 143, 205,  78, 140, 151,  82, 153, 182, 172,\n",
       "       199, 155,  84,  71, 167, 161,  49, 189, 158, 163,  69, 198, 197,\n",
       "       203,  60,  37,  64, 200, 188, 204, 196, 191, 185, 206,  54,  66,\n",
       "        65,  63], dtype=int64)"
      ]
     },
     "execution_count": 24,
     "metadata": {},
     "output_type": "execute_result"
    }
   ],
   "source": [
    "data['Beats Per Minute (BPM)'].unique()"
   ]
  },
  {
   "cell_type": "code",
   "execution_count": 27,
   "id": "96ced4b7",
   "metadata": {},
   "outputs": [],
   "source": [
    "min_values = data[numeric_columns].min()\n",
    "max_values = data[numeric_columns].max()"
   ]
  },
  {
   "cell_type": "code",
   "execution_count": 28,
   "id": "c9f20bff",
   "metadata": {
    "scrolled": true
   },
   "outputs": [
    {
     "name": "stdout",
     "output_type": "stream",
     "text": [
      "                          Min  Max\n",
      "Beats Per Minute (BPM)     37  206\n",
      "Energy                      3  100\n",
      "Danceability               10   96\n",
      "Loudness (dB)             -27   -2\n",
      "Liveness                    2   99\n",
      "Valence                     3   99\n",
      "Length (Duration)       1,121  966\n",
      "Acousticness                0   99\n",
      "Speechiness                 2   55\n",
      "Popularity                 11  100\n"
     ]
    }
   ],
   "source": [
    "min_max_values = pd.DataFrame({\n",
    "    'Min': min_values,\n",
    "    'Max': max_values\n",
    "})\n",
    "\n",
    "print(min_max_values)"
   ]
  },
  {
   "cell_type": "markdown",
   "id": "8d7b7083",
   "metadata": {},
   "source": [
    "### Data preparation"
   ]
  },
  {
   "cell_type": "markdown",
   "id": "b887e1ae",
   "metadata": {},
   "source": [
    "#### Normalisation des données"
   ]
  },
  {
   "cell_type": "code",
   "execution_count": null,
   "id": "bb0ac0ec",
   "metadata": {},
   "outputs": [],
   "source": []
  }
 ],
 "metadata": {
  "kernelspec": {
   "display_name": "Python 3 (ipykernel)",
   "language": "python",
   "name": "python3"
  },
  "language_info": {
   "codemirror_mode": {
    "name": "ipython",
    "version": 3
   },
   "file_extension": ".py",
   "mimetype": "text/x-python",
   "name": "python",
   "nbconvert_exporter": "python",
   "pygments_lexer": "ipython3",
   "version": "3.11.5"
  }
 },
 "nbformat": 4,
 "nbformat_minor": 5
}
